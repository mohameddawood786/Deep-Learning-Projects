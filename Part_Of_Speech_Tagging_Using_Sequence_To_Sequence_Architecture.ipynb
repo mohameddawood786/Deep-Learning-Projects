{
  "nbformat": 4,
  "nbformat_minor": 0,
  "metadata": {
    "colab": {
      "provenance": []
    },
    "kernelspec": {
      "name": "python3",
      "display_name": "Python 3"
    },
    "language_info": {
      "name": "python"
    }
  },
  "cells": [
    {
      "cell_type": "code",
      "execution_count": 2,
      "metadata": {
        "id": "5TlnwHljyJ9n"
      },
      "outputs": [],
      "source": [
        "import spacy"
      ]
    },
    {
      "cell_type": "code",
      "source": [
        "nlp = spacy.load('en_core_web_sm')"
      ],
      "metadata": {
        "id": "8GDH3fZwynR5"
      },
      "execution_count": 3,
      "outputs": []
    },
    {
      "cell_type": "code",
      "source": [
        "doc = nlp(u\"I will google about facebook\")"
      ],
      "metadata": {
        "id": "vePoXRChysxv"
      },
      "execution_count": 4,
      "outputs": []
    },
    {
      "cell_type": "code",
      "source": [
        "doc[-1]"
      ],
      "metadata": {
        "colab": {
          "base_uri": "https://localhost:8080/"
        },
        "id": "WZrf1ho5yxsX",
        "outputId": "704122c2-ae7a-41ed-eb48-be592b98b9be"
      },
      "execution_count": 5,
      "outputs": [
        {
          "output_type": "execute_result",
          "data": {
            "text/plain": [
              "facebook"
            ]
          },
          "metadata": {},
          "execution_count": 5
        }
      ]
    },
    {
      "cell_type": "code",
      "source": [
        "doc[2].pos_"
      ],
      "metadata": {
        "colab": {
          "base_uri": "https://localhost:8080/",
          "height": 36
        },
        "id": "f4l1PmDZyzoj",
        "outputId": "e18ee2b3-6712-4cc3-d453-2c8eef9e462e"
      },
      "execution_count": 6,
      "outputs": [
        {
          "output_type": "execute_result",
          "data": {
            "text/plain": [
              "'VERB'"
            ],
            "application/vnd.google.colaboratory.intrinsic+json": {
              "type": "string"
            }
          },
          "metadata": {},
          "execution_count": 6
        }
      ]
    },
    {
      "cell_type": "code",
      "source": [
        "doc[2].tag_"
      ],
      "metadata": {
        "colab": {
          "base_uri": "https://localhost:8080/",
          "height": 36
        },
        "id": "twzsXx_xy8br",
        "outputId": "be776940-4848-4811-e6ce-856ab3f1d905"
      },
      "execution_count": 7,
      "outputs": [
        {
          "output_type": "execute_result",
          "data": {
            "text/plain": [
              "'VB'"
            ],
            "application/vnd.google.colaboratory.intrinsic+json": {
              "type": "string"
            }
          },
          "metadata": {},
          "execution_count": 7
        }
      ]
    },
    {
      "cell_type": "code",
      "source": [
        "spacy.explain('VB')"
      ],
      "metadata": {
        "colab": {
          "base_uri": "https://localhost:8080/",
          "height": 36
        },
        "id": "S1GuSVQay_wl",
        "outputId": "6635604b-5197-4f44-95e1-1cc43db7cd89"
      },
      "execution_count": 8,
      "outputs": [
        {
          "output_type": "execute_result",
          "data": {
            "text/plain": [
              "'verb, base form'"
            ],
            "application/vnd.google.colaboratory.intrinsic+json": {
              "type": "string"
            }
          },
          "metadata": {},
          "execution_count": 8
        }
      ]
    },
    {
      "cell_type": "code",
      "source": [
        "for word in doc:\n",
        " print(word.text,\"------>\", word.pos_,word.tag_,spacy.explain(word.tag))"
      ],
      "metadata": {
        "colab": {
          "base_uri": "https://localhost:8080/"
        },
        "id": "0W5A0UcBzDyi",
        "outputId": "7c6ba710-c8d2-40ec-a3f3-3240fb25aa03"
      },
      "execution_count": 9,
      "outputs": [
        {
          "output_type": "stream",
          "name": "stdout",
          "text": [
            "I ------> PRON PRP None\n",
            "will ------> AUX MD None\n",
            "google ------> VERB VB None\n",
            "about ------> ADP IN None\n",
            "facebook ------> NOUN NN None\n"
          ]
        },
        {
          "output_type": "stream",
          "name": "stderr",
          "text": [
            "/usr/local/lib/python3.10/dist-packages/spacy/glossary.py:20: UserWarning: [W118] Term '13656873538139661788' not found in glossary. It may however be explained in documentation for the corpora used to train the language. Please check `nlp.meta[\"sources\"]` for any relevant links.\n",
            "  warnings.warn(Warnings.W118.format(term=term))\n",
            "/usr/local/lib/python3.10/dist-packages/spacy/glossary.py:20: UserWarning: [W118] Term '16235386156175103506' not found in glossary. It may however be explained in documentation for the corpora used to train the language. Please check `nlp.meta[\"sources\"]` for any relevant links.\n",
            "  warnings.warn(Warnings.W118.format(term=term))\n",
            "/usr/local/lib/python3.10/dist-packages/spacy/glossary.py:20: UserWarning: [W118] Term '14200088355797579614' not found in glossary. It may however be explained in documentation for the corpora used to train the language. Please check `nlp.meta[\"sources\"]` for any relevant links.\n",
            "  warnings.warn(Warnings.W118.format(term=term))\n",
            "/usr/local/lib/python3.10/dist-packages/spacy/glossary.py:20: UserWarning: [W118] Term '1292078113972184607' not found in glossary. It may however be explained in documentation for the corpora used to train the language. Please check `nlp.meta[\"sources\"]` for any relevant links.\n",
            "  warnings.warn(Warnings.W118.format(term=term))\n",
            "/usr/local/lib/python3.10/dist-packages/spacy/glossary.py:20: UserWarning: [W118] Term '15308085513773655218' not found in glossary. It may however be explained in documentation for the corpora used to train the language. Please check `nlp.meta[\"sources\"]` for any relevant links.\n",
            "  warnings.warn(Warnings.W118.format(term=term))\n"
          ]
        }
      ]
    },
    {
      "cell_type": "code",
      "source": [
        "doc2 = nlp(u\"I left the room\")\n",
        "for word in doc2:\n",
        " print(word.text,\"------>\", word.pos_,word.tag_,spacy.explain(word.tag_))"
      ],
      "metadata": {
        "colab": {
          "base_uri": "https://localhost:8080/"
        },
        "id": "JOTTcWNgzJGk",
        "outputId": "fe0e884c-066e-4c84-f082-a8c70f40cd68"
      },
      "execution_count": 10,
      "outputs": [
        {
          "output_type": "stream",
          "name": "stdout",
          "text": [
            "I ------> PRON PRP pronoun, personal\n",
            "left ------> VERB VBD verb, past tense\n",
            "the ------> DET DT determiner\n",
            "room ------> NOUN NN noun, singular or mass\n"
          ]
        }
      ]
    },
    {
      "cell_type": "code",
      "source": [
        "doc3 = nlp(u\"to the left of the room\")\n",
        "for word in doc3:\n",
        " print(word.text,\"------>\", word.pos_,word.tag_,spacy.explain(word.tag_))\n"
      ],
      "metadata": {
        "colab": {
          "base_uri": "https://localhost:8080/"
        },
        "id": "W6RLIDJ9zUec",
        "outputId": "2269af6a-491b-495c-c621-7f62f440682b"
      },
      "execution_count": 11,
      "outputs": [
        {
          "output_type": "stream",
          "name": "stdout",
          "text": [
            "to ------> ADP IN conjunction, subordinating or preposition\n",
            "the ------> DET DT determiner\n",
            "left ------> NOUN NN noun, singular or mass\n",
            "of ------> ADP IN conjunction, subordinating or preposition\n",
            "the ------> DET DT determiner\n",
            "room ------> NOUN NN noun, singular or mass\n"
          ]
        }
      ]
    },
    {
      "cell_type": "code",
      "source": [
        "doc4 = nlp(u\"I read books on history\")\n",
        "for word in doc4:\n",
        " print(word.text,\"------>\", word.pos_,word.tag_,spacy.explain(word.tag))"
      ],
      "metadata": {
        "colab": {
          "base_uri": "https://localhost:8080/"
        },
        "id": "GYWfmyMuzZKm",
        "outputId": "1fac17d8-4149-4d5a-e911-034f75c158f1"
      },
      "execution_count": 12,
      "outputs": [
        {
          "output_type": "stream",
          "name": "stdout",
          "text": [
            "I ------> PRON PRP None\n",
            "read ------> VERB VBP None\n",
            "books ------> NOUN NNS None\n",
            "on ------> ADP IN None\n",
            "history ------> NOUN NN None\n"
          ]
        },
        {
          "output_type": "stream",
          "name": "stderr",
          "text": [
            "/usr/local/lib/python3.10/dist-packages/spacy/glossary.py:20: UserWarning: [W118] Term '9188597074677201817' not found in glossary. It may however be explained in documentation for the corpora used to train the language. Please check `nlp.meta[\"sources\"]` for any relevant links.\n",
            "  warnings.warn(Warnings.W118.format(term=term))\n",
            "/usr/local/lib/python3.10/dist-packages/spacy/glossary.py:20: UserWarning: [W118] Term '783433942507015291' not found in glossary. It may however be explained in documentation for the corpora used to train the language. Please check `nlp.meta[\"sources\"]` for any relevant links.\n",
            "  warnings.warn(Warnings.W118.format(term=term))\n"
          ]
        }
      ]
    },
    {
      "cell_type": "code",
      "source": [
        "doc5 = nlp(u\"I have read a book on history\")\n",
        "for word in doc5:\n",
        " print(word.text,\"------>\", word.pos_,word.tag_,spacy.explain(word.tag))"
      ],
      "metadata": {
        "colab": {
          "base_uri": "https://localhost:8080/"
        },
        "id": "q_qHC1w9zd9Y",
        "outputId": "82e9bc6b-19a4-42da-d4e4-59470bc42d82"
      },
      "execution_count": 13,
      "outputs": [
        {
          "output_type": "stream",
          "name": "stdout",
          "text": [
            "I ------> PRON PRP None\n",
            "have ------> AUX VBP None\n",
            "read ------> VERB VBN None\n",
            "a ------> DET DT None\n",
            "book ------> NOUN NN None\n",
            "on ------> ADP IN None\n",
            "history ------> NOUN NN None\n"
          ]
        },
        {
          "output_type": "stream",
          "name": "stderr",
          "text": [
            "/usr/local/lib/python3.10/dist-packages/spacy/glossary.py:20: UserWarning: [W118] Term '3822385049556375858' not found in glossary. It may however be explained in documentation for the corpora used to train the language. Please check `nlp.meta[\"sources\"]` for any relevant links.\n",
            "  warnings.warn(Warnings.W118.format(term=term))\n",
            "/usr/local/lib/python3.10/dist-packages/spacy/glossary.py:20: UserWarning: [W118] Term '15267657372422890137' not found in glossary. It may however be explained in documentation for the corpora used to train the language. Please check `nlp.meta[\"sources\"]` for any relevant links.\n",
            "  warnings.warn(Warnings.W118.format(term=term))\n"
          ]
        }
      ]
    },
    {
      "cell_type": "code",
      "source": [
        "doc6 = nlp(u\"The quick brown fox jumped over the lazy dog\")"
      ],
      "metadata": {
        "id": "tKL_yv6szp8F"
      },
      "execution_count": 14,
      "outputs": []
    },
    {
      "cell_type": "code",
      "source": [
        "from spacy import displacy"
      ],
      "metadata": {
        "id": "D-vWWqX8zwFA"
      },
      "execution_count": 15,
      "outputs": []
    },
    {
      "cell_type": "code",
      "source": [
        "displacy.render(doc6,style='dep',jupyter=True)"
      ],
      "metadata": {
        "colab": {
          "base_uri": "https://localhost:8080/",
          "height": 441
        },
        "id": "XJqTQ31IzyxT",
        "outputId": "62c62ccb-58cf-4ce3-9723-ae7818d634b2"
      },
      "execution_count": 17,
      "outputs": [
        {
          "output_type": "display_data",
          "data": {
            "text/plain": [
              "<IPython.core.display.HTML object>"
            ],
            "text/html": [
              "<span class=\"tex2jax_ignore\"><svg xmlns=\"http://www.w3.org/2000/svg\" xmlns:xlink=\"http://www.w3.org/1999/xlink\" xml:lang=\"en\" id=\"3ab0c6afe1d74cf7a40d2565bdd21e95-0\" class=\"displacy\" width=\"1625\" height=\"399.5\" direction=\"ltr\" style=\"max-width: none; height: 399.5px; color: #000000; background: #ffffff; font-family: Arial; direction: ltr\">\n",
              "<text class=\"displacy-token\" fill=\"currentColor\" text-anchor=\"middle\" y=\"309.5\">\n",
              "    <tspan class=\"displacy-word\" fill=\"currentColor\" x=\"50\">The</tspan>\n",
              "    <tspan class=\"displacy-tag\" dy=\"2em\" fill=\"currentColor\" x=\"50\">DET</tspan>\n",
              "</text>\n",
              "\n",
              "<text class=\"displacy-token\" fill=\"currentColor\" text-anchor=\"middle\" y=\"309.5\">\n",
              "    <tspan class=\"displacy-word\" fill=\"currentColor\" x=\"225\">quick</tspan>\n",
              "    <tspan class=\"displacy-tag\" dy=\"2em\" fill=\"currentColor\" x=\"225\">ADJ</tspan>\n",
              "</text>\n",
              "\n",
              "<text class=\"displacy-token\" fill=\"currentColor\" text-anchor=\"middle\" y=\"309.5\">\n",
              "    <tspan class=\"displacy-word\" fill=\"currentColor\" x=\"400\">brown</tspan>\n",
              "    <tspan class=\"displacy-tag\" dy=\"2em\" fill=\"currentColor\" x=\"400\">ADJ</tspan>\n",
              "</text>\n",
              "\n",
              "<text class=\"displacy-token\" fill=\"currentColor\" text-anchor=\"middle\" y=\"309.5\">\n",
              "    <tspan class=\"displacy-word\" fill=\"currentColor\" x=\"575\">fox</tspan>\n",
              "    <tspan class=\"displacy-tag\" dy=\"2em\" fill=\"currentColor\" x=\"575\">NOUN</tspan>\n",
              "</text>\n",
              "\n",
              "<text class=\"displacy-token\" fill=\"currentColor\" text-anchor=\"middle\" y=\"309.5\">\n",
              "    <tspan class=\"displacy-word\" fill=\"currentColor\" x=\"750\">jumped</tspan>\n",
              "    <tspan class=\"displacy-tag\" dy=\"2em\" fill=\"currentColor\" x=\"750\">VERB</tspan>\n",
              "</text>\n",
              "\n",
              "<text class=\"displacy-token\" fill=\"currentColor\" text-anchor=\"middle\" y=\"309.5\">\n",
              "    <tspan class=\"displacy-word\" fill=\"currentColor\" x=\"925\">over</tspan>\n",
              "    <tspan class=\"displacy-tag\" dy=\"2em\" fill=\"currentColor\" x=\"925\">ADP</tspan>\n",
              "</text>\n",
              "\n",
              "<text class=\"displacy-token\" fill=\"currentColor\" text-anchor=\"middle\" y=\"309.5\">\n",
              "    <tspan class=\"displacy-word\" fill=\"currentColor\" x=\"1100\">the</tspan>\n",
              "    <tspan class=\"displacy-tag\" dy=\"2em\" fill=\"currentColor\" x=\"1100\">DET</tspan>\n",
              "</text>\n",
              "\n",
              "<text class=\"displacy-token\" fill=\"currentColor\" text-anchor=\"middle\" y=\"309.5\">\n",
              "    <tspan class=\"displacy-word\" fill=\"currentColor\" x=\"1275\">lazy</tspan>\n",
              "    <tspan class=\"displacy-tag\" dy=\"2em\" fill=\"currentColor\" x=\"1275\">ADJ</tspan>\n",
              "</text>\n",
              "\n",
              "<text class=\"displacy-token\" fill=\"currentColor\" text-anchor=\"middle\" y=\"309.5\">\n",
              "    <tspan class=\"displacy-word\" fill=\"currentColor\" x=\"1450\">dog</tspan>\n",
              "    <tspan class=\"displacy-tag\" dy=\"2em\" fill=\"currentColor\" x=\"1450\">NOUN</tspan>\n",
              "</text>\n",
              "\n",
              "<g class=\"displacy-arrow\">\n",
              "    <path class=\"displacy-arc\" id=\"arrow-3ab0c6afe1d74cf7a40d2565bdd21e95-0-0\" stroke-width=\"2px\" d=\"M70,264.5 C70,2.0 575.0,2.0 575.0,264.5\" fill=\"none\" stroke=\"currentColor\"/>\n",
              "    <text dy=\"1.25em\" style=\"font-size: 0.8em; letter-spacing: 1px\">\n",
              "        <textPath xlink:href=\"#arrow-3ab0c6afe1d74cf7a40d2565bdd21e95-0-0\" class=\"displacy-label\" startOffset=\"50%\" side=\"left\" fill=\"currentColor\" text-anchor=\"middle\">det</textPath>\n",
              "    </text>\n",
              "    <path class=\"displacy-arrowhead\" d=\"M70,266.5 L62,254.5 78,254.5\" fill=\"currentColor\"/>\n",
              "</g>\n",
              "\n",
              "<g class=\"displacy-arrow\">\n",
              "    <path class=\"displacy-arc\" id=\"arrow-3ab0c6afe1d74cf7a40d2565bdd21e95-0-1\" stroke-width=\"2px\" d=\"M245,264.5 C245,89.5 570.0,89.5 570.0,264.5\" fill=\"none\" stroke=\"currentColor\"/>\n",
              "    <text dy=\"1.25em\" style=\"font-size: 0.8em; letter-spacing: 1px\">\n",
              "        <textPath xlink:href=\"#arrow-3ab0c6afe1d74cf7a40d2565bdd21e95-0-1\" class=\"displacy-label\" startOffset=\"50%\" side=\"left\" fill=\"currentColor\" text-anchor=\"middle\">amod</textPath>\n",
              "    </text>\n",
              "    <path class=\"displacy-arrowhead\" d=\"M245,266.5 L237,254.5 253,254.5\" fill=\"currentColor\"/>\n",
              "</g>\n",
              "\n",
              "<g class=\"displacy-arrow\">\n",
              "    <path class=\"displacy-arc\" id=\"arrow-3ab0c6afe1d74cf7a40d2565bdd21e95-0-2\" stroke-width=\"2px\" d=\"M420,264.5 C420,177.0 565.0,177.0 565.0,264.5\" fill=\"none\" stroke=\"currentColor\"/>\n",
              "    <text dy=\"1.25em\" style=\"font-size: 0.8em; letter-spacing: 1px\">\n",
              "        <textPath xlink:href=\"#arrow-3ab0c6afe1d74cf7a40d2565bdd21e95-0-2\" class=\"displacy-label\" startOffset=\"50%\" side=\"left\" fill=\"currentColor\" text-anchor=\"middle\">amod</textPath>\n",
              "    </text>\n",
              "    <path class=\"displacy-arrowhead\" d=\"M420,266.5 L412,254.5 428,254.5\" fill=\"currentColor\"/>\n",
              "</g>\n",
              "\n",
              "<g class=\"displacy-arrow\">\n",
              "    <path class=\"displacy-arc\" id=\"arrow-3ab0c6afe1d74cf7a40d2565bdd21e95-0-3\" stroke-width=\"2px\" d=\"M595,264.5 C595,177.0 740.0,177.0 740.0,264.5\" fill=\"none\" stroke=\"currentColor\"/>\n",
              "    <text dy=\"1.25em\" style=\"font-size: 0.8em; letter-spacing: 1px\">\n",
              "        <textPath xlink:href=\"#arrow-3ab0c6afe1d74cf7a40d2565bdd21e95-0-3\" class=\"displacy-label\" startOffset=\"50%\" side=\"left\" fill=\"currentColor\" text-anchor=\"middle\">nsubj</textPath>\n",
              "    </text>\n",
              "    <path class=\"displacy-arrowhead\" d=\"M595,266.5 L587,254.5 603,254.5\" fill=\"currentColor\"/>\n",
              "</g>\n",
              "\n",
              "<g class=\"displacy-arrow\">\n",
              "    <path class=\"displacy-arc\" id=\"arrow-3ab0c6afe1d74cf7a40d2565bdd21e95-0-4\" stroke-width=\"2px\" d=\"M770,264.5 C770,177.0 915.0,177.0 915.0,264.5\" fill=\"none\" stroke=\"currentColor\"/>\n",
              "    <text dy=\"1.25em\" style=\"font-size: 0.8em; letter-spacing: 1px\">\n",
              "        <textPath xlink:href=\"#arrow-3ab0c6afe1d74cf7a40d2565bdd21e95-0-4\" class=\"displacy-label\" startOffset=\"50%\" side=\"left\" fill=\"currentColor\" text-anchor=\"middle\">prep</textPath>\n",
              "    </text>\n",
              "    <path class=\"displacy-arrowhead\" d=\"M915.0,266.5 L923.0,254.5 907.0,254.5\" fill=\"currentColor\"/>\n",
              "</g>\n",
              "\n",
              "<g class=\"displacy-arrow\">\n",
              "    <path class=\"displacy-arc\" id=\"arrow-3ab0c6afe1d74cf7a40d2565bdd21e95-0-5\" stroke-width=\"2px\" d=\"M1120,264.5 C1120,89.5 1445.0,89.5 1445.0,264.5\" fill=\"none\" stroke=\"currentColor\"/>\n",
              "    <text dy=\"1.25em\" style=\"font-size: 0.8em; letter-spacing: 1px\">\n",
              "        <textPath xlink:href=\"#arrow-3ab0c6afe1d74cf7a40d2565bdd21e95-0-5\" class=\"displacy-label\" startOffset=\"50%\" side=\"left\" fill=\"currentColor\" text-anchor=\"middle\">det</textPath>\n",
              "    </text>\n",
              "    <path class=\"displacy-arrowhead\" d=\"M1120,266.5 L1112,254.5 1128,254.5\" fill=\"currentColor\"/>\n",
              "</g>\n",
              "\n",
              "<g class=\"displacy-arrow\">\n",
              "    <path class=\"displacy-arc\" id=\"arrow-3ab0c6afe1d74cf7a40d2565bdd21e95-0-6\" stroke-width=\"2px\" d=\"M1295,264.5 C1295,177.0 1440.0,177.0 1440.0,264.5\" fill=\"none\" stroke=\"currentColor\"/>\n",
              "    <text dy=\"1.25em\" style=\"font-size: 0.8em; letter-spacing: 1px\">\n",
              "        <textPath xlink:href=\"#arrow-3ab0c6afe1d74cf7a40d2565bdd21e95-0-6\" class=\"displacy-label\" startOffset=\"50%\" side=\"left\" fill=\"currentColor\" text-anchor=\"middle\">amod</textPath>\n",
              "    </text>\n",
              "    <path class=\"displacy-arrowhead\" d=\"M1295,266.5 L1287,254.5 1303,254.5\" fill=\"currentColor\"/>\n",
              "</g>\n",
              "\n",
              "<g class=\"displacy-arrow\">\n",
              "    <path class=\"displacy-arc\" id=\"arrow-3ab0c6afe1d74cf7a40d2565bdd21e95-0-7\" stroke-width=\"2px\" d=\"M945,264.5 C945,2.0 1450.0,2.0 1450.0,264.5\" fill=\"none\" stroke=\"currentColor\"/>\n",
              "    <text dy=\"1.25em\" style=\"font-size: 0.8em; letter-spacing: 1px\">\n",
              "        <textPath xlink:href=\"#arrow-3ab0c6afe1d74cf7a40d2565bdd21e95-0-7\" class=\"displacy-label\" startOffset=\"50%\" side=\"left\" fill=\"currentColor\" text-anchor=\"middle\">pobj</textPath>\n",
              "    </text>\n",
              "    <path class=\"displacy-arrowhead\" d=\"M1450.0,266.5 L1458.0,254.5 1442.0,254.5\" fill=\"currentColor\"/>\n",
              "</g>\n",
              "</svg></span>"
            ]
          },
          "metadata": {}
        }
      ]
    },
    {
      "cell_type": "code",
      "source": [
        "options={\n",
        " 'distance':80,\n",
        " 'compact':True,\n",
        " 'color':'#fff',\n",
        " 'bg':'#00a65a'\n",
        "}"
      ],
      "metadata": {
        "id": "H5tpF2Cez4YH"
      },
      "execution_count": 18,
      "outputs": []
    },
    {
      "cell_type": "code",
      "source": [
        "displacy.render(doc6,style='dep',jupyter=True,options=options)"
      ],
      "metadata": {
        "colab": {
          "base_uri": "https://localhost:8080/",
          "height": 299
        },
        "id": "Iu4EpJ9Gz6vn",
        "outputId": "9fa17bf1-016c-4c90-b325-1acf01ee0448"
      },
      "execution_count": 19,
      "outputs": [
        {
          "output_type": "display_data",
          "data": {
            "text/plain": [
              "<IPython.core.display.HTML object>"
            ],
            "text/html": [
              "<span class=\"tex2jax_ignore\"><svg xmlns=\"http://www.w3.org/2000/svg\" xmlns:xlink=\"http://www.w3.org/1999/xlink\" xml:lang=\"en\" id=\"5cc1ca9369164222aac660668606761d-0\" class=\"displacy\" width=\"770\" height=\"257.0\" direction=\"ltr\" style=\"max-width: none; height: 257.0px; color: #fff; background: #00a65a; font-family: Arial; direction: ltr\">\n",
              "<text class=\"displacy-token\" fill=\"currentColor\" text-anchor=\"middle\" y=\"167.0\">\n",
              "    <tspan class=\"displacy-word\" fill=\"currentColor\" x=\"50\">The</tspan>\n",
              "    <tspan class=\"displacy-tag\" dy=\"2em\" fill=\"currentColor\" x=\"50\">DET</tspan>\n",
              "</text>\n",
              "\n",
              "<text class=\"displacy-token\" fill=\"currentColor\" text-anchor=\"middle\" y=\"167.0\">\n",
              "    <tspan class=\"displacy-word\" fill=\"currentColor\" x=\"130\">quick</tspan>\n",
              "    <tspan class=\"displacy-tag\" dy=\"2em\" fill=\"currentColor\" x=\"130\">ADJ</tspan>\n",
              "</text>\n",
              "\n",
              "<text class=\"displacy-token\" fill=\"currentColor\" text-anchor=\"middle\" y=\"167.0\">\n",
              "    <tspan class=\"displacy-word\" fill=\"currentColor\" x=\"210\">brown</tspan>\n",
              "    <tspan class=\"displacy-tag\" dy=\"2em\" fill=\"currentColor\" x=\"210\">ADJ</tspan>\n",
              "</text>\n",
              "\n",
              "<text class=\"displacy-token\" fill=\"currentColor\" text-anchor=\"middle\" y=\"167.0\">\n",
              "    <tspan class=\"displacy-word\" fill=\"currentColor\" x=\"290\">fox</tspan>\n",
              "    <tspan class=\"displacy-tag\" dy=\"2em\" fill=\"currentColor\" x=\"290\">NOUN</tspan>\n",
              "</text>\n",
              "\n",
              "<text class=\"displacy-token\" fill=\"currentColor\" text-anchor=\"middle\" y=\"167.0\">\n",
              "    <tspan class=\"displacy-word\" fill=\"currentColor\" x=\"370\">jumped</tspan>\n",
              "    <tspan class=\"displacy-tag\" dy=\"2em\" fill=\"currentColor\" x=\"370\">VERB</tspan>\n",
              "</text>\n",
              "\n",
              "<text class=\"displacy-token\" fill=\"currentColor\" text-anchor=\"middle\" y=\"167.0\">\n",
              "    <tspan class=\"displacy-word\" fill=\"currentColor\" x=\"450\">over</tspan>\n",
              "    <tspan class=\"displacy-tag\" dy=\"2em\" fill=\"currentColor\" x=\"450\">ADP</tspan>\n",
              "</text>\n",
              "\n",
              "<text class=\"displacy-token\" fill=\"currentColor\" text-anchor=\"middle\" y=\"167.0\">\n",
              "    <tspan class=\"displacy-word\" fill=\"currentColor\" x=\"530\">the</tspan>\n",
              "    <tspan class=\"displacy-tag\" dy=\"2em\" fill=\"currentColor\" x=\"530\">DET</tspan>\n",
              "</text>\n",
              "\n",
              "<text class=\"displacy-token\" fill=\"currentColor\" text-anchor=\"middle\" y=\"167.0\">\n",
              "    <tspan class=\"displacy-word\" fill=\"currentColor\" x=\"610\">lazy</tspan>\n",
              "    <tspan class=\"displacy-tag\" dy=\"2em\" fill=\"currentColor\" x=\"610\">ADJ</tspan>\n",
              "</text>\n",
              "\n",
              "<text class=\"displacy-token\" fill=\"currentColor\" text-anchor=\"middle\" y=\"167.0\">\n",
              "    <tspan class=\"displacy-word\" fill=\"currentColor\" x=\"690\">dog</tspan>\n",
              "    <tspan class=\"displacy-tag\" dy=\"2em\" fill=\"currentColor\" x=\"690\">NOUN</tspan>\n",
              "</text>\n",
              "\n",
              "<g class=\"displacy-arrow\">\n",
              "    <path class=\"displacy-arc\" id=\"arrow-5cc1ca9369164222aac660668606761d-0-0\" stroke-width=\"2px\" d=\"M62,122.0 62,82.0 290.0,82.0 290.0,122.0\" fill=\"none\" stroke=\"currentColor\"/>\n",
              "    <text dy=\"1.25em\" style=\"font-size: 0.8em; letter-spacing: 1px\">\n",
              "        <textPath xlink:href=\"#arrow-5cc1ca9369164222aac660668606761d-0-0\" class=\"displacy-label\" startOffset=\"50%\" side=\"left\" fill=\"currentColor\" text-anchor=\"middle\">det</textPath>\n",
              "    </text>\n",
              "    <path class=\"displacy-arrowhead\" d=\"M62,124.0 L58,116.0 66,116.0\" fill=\"currentColor\"/>\n",
              "</g>\n",
              "\n",
              "<g class=\"displacy-arrow\">\n",
              "    <path class=\"displacy-arc\" id=\"arrow-5cc1ca9369164222aac660668606761d-0-1\" stroke-width=\"2px\" d=\"M142,122.0 142,95.33333333333333 287.0,95.33333333333333 287.0,122.0\" fill=\"none\" stroke=\"currentColor\"/>\n",
              "    <text dy=\"1.25em\" style=\"font-size: 0.8em; letter-spacing: 1px\">\n",
              "        <textPath xlink:href=\"#arrow-5cc1ca9369164222aac660668606761d-0-1\" class=\"displacy-label\" startOffset=\"50%\" side=\"left\" fill=\"currentColor\" text-anchor=\"middle\">amod</textPath>\n",
              "    </text>\n",
              "    <path class=\"displacy-arrowhead\" d=\"M142,124.0 L138,116.0 146,116.0\" fill=\"currentColor\"/>\n",
              "</g>\n",
              "\n",
              "<g class=\"displacy-arrow\">\n",
              "    <path class=\"displacy-arc\" id=\"arrow-5cc1ca9369164222aac660668606761d-0-2\" stroke-width=\"2px\" d=\"M222,122.0 222,108.66666666666667 284.0,108.66666666666667 284.0,122.0\" fill=\"none\" stroke=\"currentColor\"/>\n",
              "    <text dy=\"1.25em\" style=\"font-size: 0.8em; letter-spacing: 1px\">\n",
              "        <textPath xlink:href=\"#arrow-5cc1ca9369164222aac660668606761d-0-2\" class=\"displacy-label\" startOffset=\"50%\" side=\"left\" fill=\"currentColor\" text-anchor=\"middle\">amod</textPath>\n",
              "    </text>\n",
              "    <path class=\"displacy-arrowhead\" d=\"M222,124.0 L218,116.0 226,116.0\" fill=\"currentColor\"/>\n",
              "</g>\n",
              "\n",
              "<g class=\"displacy-arrow\">\n",
              "    <path class=\"displacy-arc\" id=\"arrow-5cc1ca9369164222aac660668606761d-0-3\" stroke-width=\"2px\" d=\"M302,122.0 302,108.66666666666667 364.0,108.66666666666667 364.0,122.0\" fill=\"none\" stroke=\"currentColor\"/>\n",
              "    <text dy=\"1.25em\" style=\"font-size: 0.8em; letter-spacing: 1px\">\n",
              "        <textPath xlink:href=\"#arrow-5cc1ca9369164222aac660668606761d-0-3\" class=\"displacy-label\" startOffset=\"50%\" side=\"left\" fill=\"currentColor\" text-anchor=\"middle\">nsubj</textPath>\n",
              "    </text>\n",
              "    <path class=\"displacy-arrowhead\" d=\"M302,124.0 L298,116.0 306,116.0\" fill=\"currentColor\"/>\n",
              "</g>\n",
              "\n",
              "<g class=\"displacy-arrow\">\n",
              "    <path class=\"displacy-arc\" id=\"arrow-5cc1ca9369164222aac660668606761d-0-4\" stroke-width=\"2px\" d=\"M382,122.0 382,108.66666666666667 444.0,108.66666666666667 444.0,122.0\" fill=\"none\" stroke=\"currentColor\"/>\n",
              "    <text dy=\"1.25em\" style=\"font-size: 0.8em; letter-spacing: 1px\">\n",
              "        <textPath xlink:href=\"#arrow-5cc1ca9369164222aac660668606761d-0-4\" class=\"displacy-label\" startOffset=\"50%\" side=\"left\" fill=\"currentColor\" text-anchor=\"middle\">prep</textPath>\n",
              "    </text>\n",
              "    <path class=\"displacy-arrowhead\" d=\"M444.0,124.0 L448.0,116.0 440.0,116.0\" fill=\"currentColor\"/>\n",
              "</g>\n",
              "\n",
              "<g class=\"displacy-arrow\">\n",
              "    <path class=\"displacy-arc\" id=\"arrow-5cc1ca9369164222aac660668606761d-0-5\" stroke-width=\"2px\" d=\"M542,122.0 542,95.33333333333333 687.0,95.33333333333333 687.0,122.0\" fill=\"none\" stroke=\"currentColor\"/>\n",
              "    <text dy=\"1.25em\" style=\"font-size: 0.8em; letter-spacing: 1px\">\n",
              "        <textPath xlink:href=\"#arrow-5cc1ca9369164222aac660668606761d-0-5\" class=\"displacy-label\" startOffset=\"50%\" side=\"left\" fill=\"currentColor\" text-anchor=\"middle\">det</textPath>\n",
              "    </text>\n",
              "    <path class=\"displacy-arrowhead\" d=\"M542,124.0 L538,116.0 546,116.0\" fill=\"currentColor\"/>\n",
              "</g>\n",
              "\n",
              "<g class=\"displacy-arrow\">\n",
              "    <path class=\"displacy-arc\" id=\"arrow-5cc1ca9369164222aac660668606761d-0-6\" stroke-width=\"2px\" d=\"M622,122.0 622,108.66666666666667 684.0,108.66666666666667 684.0,122.0\" fill=\"none\" stroke=\"currentColor\"/>\n",
              "    <text dy=\"1.25em\" style=\"font-size: 0.8em; letter-spacing: 1px\">\n",
              "        <textPath xlink:href=\"#arrow-5cc1ca9369164222aac660668606761d-0-6\" class=\"displacy-label\" startOffset=\"50%\" side=\"left\" fill=\"currentColor\" text-anchor=\"middle\">amod</textPath>\n",
              "    </text>\n",
              "    <path class=\"displacy-arrowhead\" d=\"M622,124.0 L618,116.0 626,116.0\" fill=\"currentColor\"/>\n",
              "</g>\n",
              "\n",
              "<g class=\"displacy-arrow\">\n",
              "    <path class=\"displacy-arc\" id=\"arrow-5cc1ca9369164222aac660668606761d-0-7\" stroke-width=\"2px\" d=\"M462,122.0 462,82.0 690.0,82.0 690.0,122.0\" fill=\"none\" stroke=\"currentColor\"/>\n",
              "    <text dy=\"1.25em\" style=\"font-size: 0.8em; letter-spacing: 1px\">\n",
              "        <textPath xlink:href=\"#arrow-5cc1ca9369164222aac660668606761d-0-7\" class=\"displacy-label\" startOffset=\"50%\" side=\"left\" fill=\"currentColor\" text-anchor=\"middle\">pobj</textPath>\n",
              "    </text>\n",
              "    <path class=\"displacy-arrowhead\" d=\"M690.0,124.0 L694.0,116.0 686.0,116.0\" fill=\"currentColor\"/>\n",
              "</g>\n",
              "</svg></span>"
            ]
          },
          "metadata": {}
        }
      ]
    },
    {
      "cell_type": "code",
      "source": [
        "#exp 6: Parts of speech tagging using Sequence to Sequence architecture\n",
        "import numpy as np\n",
        "from tensorflow.keras.models import Model\n",
        "from tensorflow.keras.layers import Input, LSTM, Embedding, Dense\n",
        "from tensorflow.keras.preprocessing.sequence import pad_sequences\n",
        "sentences = [\n",
        "    'I love natural language processing',\n",
        "    'Sequence to sequence models are powerful',\n",
        "    'POS tagging helps understand sentence structure',]\n",
        "tokenized_sentences = [sentence.split() for sentence in sentences]\n",
        "pos_tags = [\n",
        "    ['PRP', 'VBP', 'JJ', 'NN', 'NN', 'NN'],\n",
        "    ['NN', 'TO', 'NN', 'NNS', 'VBP', 'JJ'],\n",
        "    ['NNP', 'VBG', 'VBZ', 'VB', 'NN', 'NN'],]\n",
        "word_vocab = set(word for sentence in tokenized_sentences for word in sentence)\n",
        "pos_tag_vocab = set(tag for tags in pos_tags for tag in tags)\n",
        "word2index = {word: idx + 1 for idx, word in enumerate(word_vocab)}\n",
        "pos2index = {tag: idx + 1 for idx, tag in enumerate(pos_tag_vocab)}\n",
        "max_sequence_length = max(len(sentence) for sentence in tokenized_sentences)\n",
        "num_words = len(word_vocab) + 1\n",
        "num_pos_tags = len(pos_tag_vocab) + 1\n",
        "X = np.array([[word2index[word] for word in sentence] for sentence in tokenized_sentences])\n",
        "y = np.array([[pos2index[tag] for tag in tags] for tags in pos_tags])\n",
        "X_padded = pad_sequences(X, maxlen=max_sequence_length, padding='post')\n",
        "y_padded = pad_sequences(y, maxlen=max_sequence_length, padding='post')\n",
        "X_decoder_input = y_padded[:, :-1]\n",
        "y_decoder_output = y_padded[:, 1:]\n",
        "embedding_dim = 50\n",
        "latent_dim = 100\n",
        "encoder_inputs = Input(shape=(max_sequence_length,))\n",
        "encoder_embedding = Embedding(num_words, embedding_dim, input_length=max_sequence_length)(encoder_inputs)\n",
        "encoder_lstm = LSTM(latent_dim, return_state=True)\n",
        "encoder_outputs, state_h, state_c = encoder_lstm(encoder_embedding)\n",
        "encoder_states = [state_h, state_c]\n",
        "decoder_inputs = Input(shape=(max_sequence_length-1,))\n",
        "decoder_embedding = Embedding(num_pos_tags, embedding_dim, input_length=max_sequence_length-1)(decoder_inputs)\n",
        "decoder_lstm = LSTM(latent_dim, return_sequences=True, return_state=True)\n",
        "decoder_outputs, _, _ = decoder_lstm(decoder_embedding, initial_state=encoder_states)\n",
        "decoder_dense = Dense(num_pos_tags, activation='softmax')\n",
        "decoder_outputs = decoder_dense(decoder_outputs)\n",
        "model = Model([encoder_inputs, decoder_inputs], decoder_outputs)\n",
        "model.compile(optimizer='adam', loss='sparse_categorical_crossentropy', metrics=['accuracy'])\n",
        "model.summary()\n",
        "model.fit([X_padded, X_decoder_input], np.expand_dims(y_decoder_output, -1), epochs=50, verbose=1)\n",
        "pos2index['PAD'] = 0\n",
        "def predict_pos_tags(input_sentence):\n",
        "    input_sequence = [word2index.get(word, 0) for word in input_sentence.split()]\n",
        "    input_padded = pad_sequences([input_sequence], maxlen=max_sequence_length, padding='post')\n",
        "    decoder_input = np.zeros((1, max_sequence_length-1))\n",
        "    decoder_input[0, :-1] = [pos2index['PAD']] * (max_sequence_length-2)\n",
        "    decoder_input[0, -1] = pos2index['PAD']\n",
        "    predicted_output = model.predict([input_padded, decoder_input])\n",
        "    predicted_tags = [np.argmax(tag) for tag in predicted_output[0]]\n",
        "    pos_tags_inverse = {v: k for k, v in pos2index.items()}\n",
        "    predicted_tags = [pos_tags_inverse[tag] for tag in predicted_tags]\n",
        "    return list(zip(input_sentence.split(), predicted_tags))\n",
        "test_sentence = \"POS tagging helps understand sentence structure\"\n",
        "predicted_tags = predict_pos_tags(test_sentence)\n",
        "print(\"Input Sentence:\", test_sentence)\n",
        "print(\"Predicted POS Tags:\")\n",
        "for word, pos_tag in predicted_tags:\n",
        "    print(f\"{word} - {pos_tag}\")\n"
      ],
      "metadata": {
        "colab": {
          "base_uri": "https://localhost:8080/"
        },
        "id": "I8xgnQNo0XgS",
        "outputId": "08abab81-1eb5-4665-925d-f323366a1941"
      },
      "execution_count": 20,
      "outputs": [
        {
          "output_type": "stream",
          "name": "stderr",
          "text": [
            "<ipython-input-20-c5a94227f508>:22: VisibleDeprecationWarning: Creating an ndarray from ragged nested sequences (which is a list-or-tuple of lists-or-tuples-or ndarrays with different lengths or shapes) is deprecated. If you meant to do this, you must specify 'dtype=object' when creating the ndarray.\n",
            "  X = np.array([[word2index[word] for word in sentence] for sentence in tokenized_sentences])\n"
          ]
        },
        {
          "output_type": "stream",
          "name": "stdout",
          "text": [
            "Model: \"model\"\n",
            "__________________________________________________________________________________________________\n",
            " Layer (type)                Output Shape                 Param #   Connected to                  \n",
            "==================================================================================================\n",
            " input_1 (InputLayer)        [(None, 6)]                  0         []                            \n",
            "                                                                                                  \n",
            " input_2 (InputLayer)        [(None, 5)]                  0         []                            \n",
            "                                                                                                  \n",
            " embedding (Embedding)       (None, 6, 50)                900       ['input_1[0][0]']             \n",
            "                                                                                                  \n",
            " embedding_1 (Embedding)     (None, 5, 50)                550       ['input_2[0][0]']             \n",
            "                                                                                                  \n",
            " lstm (LSTM)                 [(None, 100),                60400     ['embedding[0][0]']           \n",
            "                              (None, 100),                                                        \n",
            "                              (None, 100)]                                                        \n",
            "                                                                                                  \n",
            " lstm_1 (LSTM)               [(None, 5, 100),             60400     ['embedding_1[0][0]',         \n",
            "                              (None, 100),                           'lstm[0][1]',                \n",
            "                              (None, 100)]                           'lstm[0][2]']                \n",
            "                                                                                                  \n",
            " dense (Dense)               (None, 5, 11)                1111      ['lstm_1[0][0]']              \n",
            "                                                                                                  \n",
            "==================================================================================================\n",
            "Total params: 123361 (481.88 KB)\n",
            "Trainable params: 123361 (481.88 KB)\n",
            "Non-trainable params: 0 (0.00 Byte)\n",
            "__________________________________________________________________________________________________\n",
            "Epoch 1/50\n",
            "1/1 [==============================] - 5s 5s/step - loss: 2.3968 - accuracy: 0.1333\n",
            "Epoch 2/50\n",
            "1/1 [==============================] - 0s 20ms/step - loss: 2.3877 - accuracy: 0.2667\n",
            "Epoch 3/50\n",
            "1/1 [==============================] - 0s 19ms/step - loss: 2.3786 - accuracy: 0.4000\n",
            "Epoch 4/50\n",
            "1/1 [==============================] - 0s 31ms/step - loss: 2.3690 - accuracy: 0.4000\n",
            "Epoch 5/50\n",
            "1/1 [==============================] - 0s 26ms/step - loss: 2.3589 - accuracy: 0.4000\n",
            "Epoch 6/50\n",
            "1/1 [==============================] - 0s 19ms/step - loss: 2.3478 - accuracy: 0.4000\n",
            "Epoch 7/50\n",
            "1/1 [==============================] - 0s 18ms/step - loss: 2.3356 - accuracy: 0.4000\n",
            "Epoch 8/50\n",
            "1/1 [==============================] - 0s 18ms/step - loss: 2.3219 - accuracy: 0.4000\n",
            "Epoch 9/50\n",
            "1/1 [==============================] - 0s 18ms/step - loss: 2.3065 - accuracy: 0.4000\n",
            "Epoch 10/50\n",
            "1/1 [==============================] - 0s 18ms/step - loss: 2.2889 - accuracy: 0.4000\n",
            "Epoch 11/50\n",
            "1/1 [==============================] - 0s 19ms/step - loss: 2.2686 - accuracy: 0.4000\n",
            "Epoch 12/50\n",
            "1/1 [==============================] - 0s 25ms/step - loss: 2.2451 - accuracy: 0.4000\n",
            "Epoch 13/50\n",
            "1/1 [==============================] - 0s 18ms/step - loss: 2.2177 - accuracy: 0.4000\n",
            "Epoch 14/50\n",
            "1/1 [==============================] - 0s 20ms/step - loss: 2.1854 - accuracy: 0.4000\n",
            "Epoch 15/50\n",
            "1/1 [==============================] - 0s 17ms/step - loss: 2.1474 - accuracy: 0.4000\n",
            "Epoch 16/50\n",
            "1/1 [==============================] - 0s 16ms/step - loss: 2.1024 - accuracy: 0.4000\n",
            "Epoch 17/50\n",
            "1/1 [==============================] - 0s 21ms/step - loss: 2.0493 - accuracy: 0.4000\n",
            "Epoch 18/50\n",
            "1/1 [==============================] - 0s 18ms/step - loss: 1.9872 - accuracy: 0.4000\n",
            "Epoch 19/50\n",
            "1/1 [==============================] - 0s 21ms/step - loss: 1.9163 - accuracy: 0.4000\n",
            "Epoch 20/50\n",
            "1/1 [==============================] - 0s 20ms/step - loss: 1.8395 - accuracy: 0.4000\n",
            "Epoch 21/50\n",
            "1/1 [==============================] - 0s 20ms/step - loss: 1.7655 - accuracy: 0.4000\n",
            "Epoch 22/50\n",
            "1/1 [==============================] - 0s 20ms/step - loss: 1.7108 - accuracy: 0.4000\n",
            "Epoch 23/50\n",
            "1/1 [==============================] - 0s 18ms/step - loss: 1.6916 - accuracy: 0.4000\n",
            "Epoch 24/50\n",
            "1/1 [==============================] - 0s 19ms/step - loss: 1.6975 - accuracy: 0.4000\n",
            "Epoch 25/50\n",
            "1/1 [==============================] - 0s 18ms/step - loss: 1.6942 - accuracy: 0.4000\n",
            "Epoch 26/50\n",
            "1/1 [==============================] - 0s 22ms/step - loss: 1.6681 - accuracy: 0.4000\n",
            "Epoch 27/50\n",
            "1/1 [==============================] - 0s 21ms/step - loss: 1.6270 - accuracy: 0.4000\n",
            "Epoch 28/50\n",
            "1/1 [==============================] - 0s 20ms/step - loss: 1.5843 - accuracy: 0.4000\n",
            "Epoch 29/50\n",
            "1/1 [==============================] - 0s 21ms/step - loss: 1.5498 - accuracy: 0.4000\n",
            "Epoch 30/50\n",
            "1/1 [==============================] - 0s 19ms/step - loss: 1.5262 - accuracy: 0.4000\n",
            "Epoch 31/50\n",
            "1/1 [==============================] - 0s 19ms/step - loss: 1.5104 - accuracy: 0.4000\n",
            "Epoch 32/50\n",
            "1/1 [==============================] - 0s 21ms/step - loss: 1.4970 - accuracy: 0.4000\n",
            "Epoch 33/50\n",
            "1/1 [==============================] - 0s 18ms/step - loss: 1.4817 - accuracy: 0.4000\n",
            "Epoch 34/50\n",
            "1/1 [==============================] - 0s 18ms/step - loss: 1.4618 - accuracy: 0.4000\n",
            "Epoch 35/50\n",
            "1/1 [==============================] - 0s 18ms/step - loss: 1.4366 - accuracy: 0.4000\n",
            "Epoch 36/50\n",
            "1/1 [==============================] - 0s 18ms/step - loss: 1.4066 - accuracy: 0.4000\n",
            "Epoch 37/50\n",
            "1/1 [==============================] - 0s 18ms/step - loss: 1.3735 - accuracy: 0.4000\n",
            "Epoch 38/50\n",
            "1/1 [==============================] - 0s 25ms/step - loss: 1.3398 - accuracy: 0.4000\n",
            "Epoch 39/50\n",
            "1/1 [==============================] - 0s 17ms/step - loss: 1.3077 - accuracy: 0.4000\n",
            "Epoch 40/50\n",
            "1/1 [==============================] - 0s 21ms/step - loss: 1.2780 - accuracy: 0.4000\n",
            "Epoch 41/50\n",
            "1/1 [==============================] - 0s 18ms/step - loss: 1.2497 - accuracy: 0.4000\n",
            "Epoch 42/50\n",
            "1/1 [==============================] - 0s 20ms/step - loss: 1.2203 - accuracy: 0.4667\n",
            "Epoch 43/50\n",
            "1/1 [==============================] - 0s 19ms/step - loss: 1.1872 - accuracy: 0.4667\n",
            "Epoch 44/50\n",
            "1/1 [==============================] - 0s 19ms/step - loss: 1.1499 - accuracy: 0.4667\n",
            "Epoch 45/50\n",
            "1/1 [==============================] - 0s 20ms/step - loss: 1.1102 - accuracy: 0.4667\n",
            "Epoch 46/50\n",
            "1/1 [==============================] - 0s 25ms/step - loss: 1.0718 - accuracy: 0.4667\n",
            "Epoch 47/50\n",
            "1/1 [==============================] - 0s 34ms/step - loss: 1.0378 - accuracy: 0.4667\n",
            "Epoch 48/50\n",
            "1/1 [==============================] - 0s 29ms/step - loss: 1.0085 - accuracy: 0.5333\n",
            "Epoch 49/50\n",
            "1/1 [==============================] - 0s 28ms/step - loss: 0.9803 - accuracy: 0.5333\n",
            "Epoch 50/50\n",
            "1/1 [==============================] - 0s 30ms/step - loss: 0.9498 - accuracy: 0.6000\n",
            "1/1 [==============================] - 1s 1s/step\n",
            "Input Sentence: POS tagging helps understand sentence structure\n",
            "Predicted POS Tags:\n",
            "POS - VBZ\n",
            "tagging - VBZ\n",
            "helps - NN\n",
            "understand - NN\n",
            "sentence - NN\n"
          ]
        }
      ]
    }
  ]
}